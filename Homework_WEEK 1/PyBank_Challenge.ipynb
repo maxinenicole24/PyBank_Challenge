{
 "cells": [
  {
   "cell_type": "markdown",
   "id": "46f44aad-658a-41f4-977c-194c82b7b74d",
   "metadata": {
    "tags": []
   },
   "source": [
    "# PyBank Challenge"
   ]
  },
  {
   "cell_type": "code",
   "execution_count": 1,
   "id": "55b80cc8-34b0-42c7-b558-3d3696c12691",
   "metadata": {},
   "outputs": [],
   "source": [
    "from pathlib import Path\n",
    "import csv"
   ]
  },
  {
   "cell_type": "markdown",
   "id": "a611fcc4-3a3d-4866-a993-77684019db12",
   "metadata": {},
   "source": [
    "## **1. Import and Read Data Set**"
   ]
  },
  {
   "cell_type": "code",
   "execution_count": 2,
   "id": "4ce6e99d-6218-4c73-addf-8332f8fcdc25",
   "metadata": {},
   "outputs": [
    {
     "name": "stdout",
     "output_type": "stream",
     "text": [
      "Current Working Directory: /Users/maxinekiss/Desktop/FINTECH/Homework_WEEK 1\n"
     ]
    }
   ],
   "source": [
    "print(f\"Current Working Directory: {Path.cwd()}\")"
   ]
  },
  {
   "cell_type": "code",
   "execution_count": 3,
   "id": "a2260d40-32a9-4a45-8f76-6fa8e7324eca",
   "metadata": {},
   "outputs": [],
   "source": [
    "# set the file path\n",
    "csvpath = Path(\"../Homework_WEEK 1/Resources/Budget_data.csv\")"
   ]
  },
  {
   "cell_type": "code",
   "execution_count": 4,
   "id": "8156f6ca-7487-463c-82e2-582c5c5140ab",
   "metadata": {},
   "outputs": [],
   "source": [
    "# Initialize list of records\n",
    "profit_losses = []\n",
    "\n",
    "# Initialize line_num variable\n",
    "line_num = 0"
   ]
  },
  {
   "cell_type": "code",
   "execution_count": 5,
   "id": "16578c4f-2ef7-46f3-83df-cbfcd9ad8da1",
   "metadata": {},
   "outputs": [
    {
     "name": "stdout",
     "output_type": "stream",
     "text": [
      "['Date', 'Profit/Losses']\n"
     ]
    }
   ],
   "source": [
    "# Open the csv file as an object\n",
    " \n",
    "with open(csvpath, 'r') as csvfile:\n",
    "    csvreader = csv.reader(csvfile)\n",
    "    # Read the header row\n",
    "    header = next(csvreader) \n",
    "    print (header)"
   ]
  },
  {
   "cell_type": "code",
   "execution_count": 6,
   "id": "9f380603-b2b5-4c2d-8a28-88573861d9c8",
   "metadata": {},
   "outputs": [
    {
     "name": "stdout",
     "output_type": "stream",
     "text": [
      "['Date', 'Profit/Losses']\n",
      "<class '_io.TextIOWrapper'>\n",
      "<class '_csv.reader'>\n"
     ]
    }
   ],
   "source": [
    "# Open the csv file as an object\n",
    " \n",
    "with open(csvpath, 'r') as csvfile:\n",
    "    csvreader = csv.reader(csvfile)\n",
    "    # Read the header row\n",
    "    header = next(csvreader) \n",
    "print (header)\n",
    "\n",
    "#Open the input path as a file object\n",
    "with open (csvpath, 'r') as csvfile:\n",
    "   \n",
    "    #Print the datatype of the file object\n",
    "    print(type(csvfile))\n",
    "    \n",
    "    #Pass in the csv file to the csv.reader() function\n",
    "    #(with ',' as the delimiter/seperator) and return the csvreader object\n",
    "    csvreader = csv.reader(csvfile, delimiter=',')\n",
    "    \n",
    "    #Print the datatype of the csv reader\n",
    "    print(type(csvreader))"
   ]
  },
  {
   "cell_type": "code",
   "execution_count": 7,
   "id": "b5fb194d-d64b-4f78-b61a-0d4e7774f6b2",
   "metadata": {},
   "outputs": [
    {
     "name": "stdout",
     "output_type": "stream",
     "text": [
      "['Date', 'Profit/Losses']<---- HEADER\n",
      "['Jan-2010', '867884']<---- FIRST ROW\n",
      "['Feb-2010', '984655']\n",
      "['Mar-2010', '322013']\n",
      "['Apr-2010', '-69417']\n",
      "['May-2010', '310503']\n",
      "['Jun-2010', '522857']\n",
      "['Jul-2010', '1033096']\n",
      "['Aug-2010', '604885']\n",
      "['Sep-2010', '-216386']\n",
      "['Oct-2010', '477532']\n",
      "['Nov-2010', '893810']\n",
      "['Dec-2010', '-80353']\n",
      "['Jan-2011', '779806']\n",
      "['Feb-2011', '-335203']\n",
      "['Mar-2011', '697845']\n",
      "['Apr-2011', '793163']\n",
      "['May-2011', '485070']\n",
      "['Jun-2011', '584122']\n",
      "['Jul-2011', '62729']\n",
      "['Aug-2011', '668179']\n",
      "['Sep-2011', '899906']\n",
      "['Oct-2011', '834719']\n",
      "['Nov-2011', '132003']\n",
      "['Dec-2011', '309978']\n",
      "['Jan-2012', '-755566']\n",
      "['Feb-2012', '1170593']\n",
      "['Mar-2012', '252788']\n",
      "['Apr-2012', '1151518']\n",
      "['May-2012', '817256']\n",
      "['Jun-2012', '570757']\n",
      "['Jul-2012', '506702']\n",
      "['Aug-2012', '-1022534']\n",
      "['Sep-2012', '475062']\n",
      "['Oct-2012', '779976']\n",
      "['Nov-2012', '144175']\n",
      "['Dec-2012', '542494']\n",
      "['Jan-2013', '359333']\n",
      "['Feb-2013', '321469']\n",
      "['Mar-2013', '67780']\n",
      "['Apr-2013', '471435']\n",
      "['May-2013', '565603']\n",
      "['Jun-2013', '872480']\n",
      "['Jul-2013', '789480']\n",
      "['Aug-2013', '999942']\n",
      "['Sep-2013', '-1196225']\n",
      "['Oct-2013', '268997']\n",
      "['Nov-2013', '-687986']\n",
      "['Dec-2013', '1150461']\n",
      "['Jan-2014', '682458']\n",
      "['Feb-2014', '617856']\n",
      "['Mar-2014', '824098']\n",
      "['Apr-2014', '581943']\n",
      "['May-2014', '132864']\n",
      "['Jun-2014', '448062']\n",
      "['Jul-2014', '689161']\n",
      "['Aug-2014', '800701']\n",
      "['Sep-2014', '1166643']\n",
      "['Oct-2014', '947333']\n",
      "['Nov-2014', '578668']\n",
      "['Dec-2014', '988505']\n",
      "['Jan-2015', '1139715']\n",
      "['Feb-2015', '1029471']\n",
      "['Mar-2015', '687533']\n",
      "['Apr-2015', '-524626']\n",
      "['May-2015', '158620']\n",
      "['Jun-2015', '87795']\n",
      "['Jul-2015', '423389']\n",
      "['Aug-2015', '840723']\n",
      "['Sep-2015', '568529']\n",
      "['Oct-2015', '332067']\n",
      "['Nov-2015', '989499']\n",
      "['Dec-2015', '778237']\n",
      "['Jan-2016', '650000']\n",
      "['Feb-2016', '-1100387']\n",
      "['Mar-2016', '-174946']\n",
      "['Apr-2016', '757143']\n",
      "['May-2016', '445709']\n",
      "['Jun-2016', '712961']\n",
      "['Jul-2016', '-1163797']\n",
      "['Aug-2016', '569899']\n",
      "['Sep-2016', '768450']\n",
      "['Oct-2016', '102685']\n",
      "['Nov-2016', '795914']\n",
      "['Dec-2016', '60988']\n",
      "['Jan-2017', '138230']\n",
      "['Feb-2017', '671099']\n"
     ]
    }
   ],
   "source": [
    "#Go to the next row from the start of the file\n",
    "with open(csvpath, 'r') as csvfile:\n",
    "    csvreader = csv.reader(csvfile)\n",
    "    # Read the header row\n",
    "    header = next(csvreader) \n",
    "    first_row = next(csvreader)\n",
    "  \n",
    "    #Print the header\n",
    "    print(f\"{header}<---- HEADER\")\n",
    "    print(f\"{first_row}<---- FIRST ROW\")\n",
    "\n",
    "    # read each row of data after the header\n",
    "    for row in csvreader:\n",
    "        #Print the row\n",
    "        print(row)\n",
    "        #Set Profit/Losses variable equal to the value in the 2 column of each row\n",
    "        salary = int(row[1])\n",
    "        #Append the row salary variable to the list of salaries\n",
    "        profit_losses.append(salary)\n",
    "        "
   ]
  },
  {
   "cell_type": "markdown",
   "id": "9baa5c8d-6857-45eb-bd44-fae10f1cf99a",
   "metadata": {},
   "source": [
    "## **2.Analysis of Data**"
   ]
  },
  {
   "cell_type": "code",
   "execution_count": 8,
   "id": "d7d43c5a-1724-492d-8c21-00abc0ce0fe9",
   "metadata": {},
   "outputs": [],
   "source": [
    "with open(csvpath, 'r') as csvfile:\n",
    "   csvreader = csv.reader(csvfile)\n",
    "# Initialize variables\n",
    "total_profit = 0\n",
    "max_profit = 0\n",
    "min_profit = 0\n",
    "avg_profit = 0\n",
    "total_months = 0\n",
    "with open(csvpath, 'r') as csvfile:\n",
    "   csvreader = csv.reader(csvfile)\n",
    "   \n",
    "   header = next(csvreader)\n",
    "   \n",
    "   for row in csvreader:\n",
    "       total_months += 1\n",
    "       prof = int(row[1])\n",
    "       total_profit += prof\n",
    "       \n",
    "       # Logit to determine min and max salaries\n",
    "       if min_profit == 0:\n",
    "           min_profit = prof\n",
    "       elif prof > max_profit:\n",
    "           max_profit = prof\n",
    "       elif prof < min_profit:\n",
    "           min_profit = prof\n",
    "       \n",
    "   avg_profit = round (total_profit / total_months, 2)"
   ]
  },
  {
   "cell_type": "code",
   "execution_count": 9,
   "id": "a3e9f000-e08d-40e9-9b99-91194049f89d",
   "metadata": {},
   "outputs": [
    {
     "name": "stdout",
     "output_type": "stream",
     "text": [
      "-------Summary of Statistics-----\n",
      "Number of months in data set:86\n",
      "Total Profit: 38382578\n",
      "Average Profit: 446309.05\n",
      "Least Amount of Profit: -1196225\n",
      "Maximum Amount of Profit: 1170593\n"
     ]
    }
   ],
   "source": [
    "print(\"-------Summary of Statistics-----\")\n",
    "print(f\"Number of months in data set:{total_months}\")\n",
    "print(f\"Total Profit: {total_profit}\")\n",
    "print(f\"Average Profit: {avg_profit}\")\n",
    "print(f\"Least Amount of Profit: {min_profit}\")\n",
    "print(f\"Maximum Amount of Profit: {max_profit}\")"
   ]
  }
 ],
 "metadata": {
  "kernelspec": {
   "display_name": "Python 3 (ipykernel)",
   "language": "python",
   "name": "python3"
  },
  "language_info": {
   "codemirror_mode": {
    "name": "ipython",
    "version": 3
   },
   "file_extension": ".py",
   "mimetype": "text/x-python",
   "name": "python",
   "nbconvert_exporter": "python",
   "pygments_lexer": "ipython3",
   "version": "3.9.12"
  }
 },
 "nbformat": 4,
 "nbformat_minor": 5
}
